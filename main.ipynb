{
 "cells": [
  {
   "cell_type": "code",
   "execution_count": 1,
   "metadata": {},
   "outputs": [
    {
     "name": "stderr",
     "output_type": "stream",
     "text": [
      "/opt/anaconda3/lib/python3.8/site-packages/numpy/lib/arraysetops.py:569: FutureWarning: elementwise comparison failed; returning scalar instead, but in the future will perform elementwise comparison\n",
      "  mask |= (ar1 == a)\n"
     ]
    }
   ],
   "source": [
    "from classes import PostCode,Transaction,Property\n",
    "from datetime import datetime\n",
    "import matplotlib.pyplot as plt\n",
    "import pandas as pd\n",
    "from scipy.stats import pearsonr\n",
    "import logging\n"
   ]
  },
  {
   "cell_type": "code",
   "execution_count": 3,
   "metadata": {},
   "outputs": [],
   "source": [
    " # ------------------ CONFIG --------------------------------------------------- #\n",
    "\n",
    "log = logging.getLogger(__name__)\n",
    "\n",
    "logging.basicConfig(level=logging.INFO,format='%(name)s - %(levelname)s - %(message)s')"
   ]
  },
  {
   "cell_type": "code",
   "execution_count": 4,
   "metadata": {},
   "outputs": [
    {
     "name": "stdout",
     "output_type": "stream",
     "text": [
      "Enter a property ID:\n"
     ]
    },
    {
     "name": "stderr",
     "output_type": "stream",
     "text": [
      "__main__ - INFO - Info on property with ID LANCASHIRE-FYLDE-LYTHAM ST ANNES-nan-SANDGATE-6-nan-D is: {'id': 'LANCASHIRE-FYLDE-LYTHAM ST ANNES-nan-SANDGATE-6-nan-D', 'county': 'LANCASHIRE', 'district': 'FYLDE', 'town': 'LYTHAM ST ANNES', 'locality': nan, 'street': 'SANDGATE', 'PAON': '6', 'SAON': nan, 'type': 'D'}\n"
     ]
    },
    {
     "name": "stdout",
     "output_type": "stream",
     "text": [
      "Enter a transaction ID:\n"
     ]
    },
    {
     "name": "stderr",
     "output_type": "stream",
     "text": [
      "__main__ - INFO - Info on transaction with ID {23B6165E-6C04-FCF4-E050-A8C0620577FA} is: {'id': '{23B6165E-6C04-FCF4-E050-A8C0620577FA}', 'price': 500000, 'date': Timestamp('2015-09-21 00:00:00'), 'age': 'N', 'duration': 'F'}\n"
     ]
    }
   ],
   "source": [
    "# ------------------ GET INFO ON A PROPERTY / TRANSACTION ------------------------ # \n",
    "\n",
    "property_name = input('Enter a property ID:')\n",
    "if not property_name:\n",
    "    property_name = 'LANCASHIRE-FYLDE-LYTHAM ST ANNES-nan-SANDGATE-6-nan-D'\n",
    "\n",
    "try:\n",
    "    property = Property(property_name)\n",
    "    log.info(\"Info on property with ID %s is: %s\",property_name,property.__dict__)\n",
    "except Exception as e:\n",
    "    log.error(e)\n",
    "\n",
    "transaction_name = input('Enter a transaction ID:')\n",
    "if not transaction_name:\n",
    "    transaction_name = '{23B6165E-6C04-FCF4-E050-A8C0620577FA}'\n",
    "\n",
    "try:\n",
    "    transaction = Transaction(transaction_name)\n",
    "    log.info(\"Info on transaction with ID %s is: %s\",transaction_name,transaction.__dict__)\n",
    "except Exception as e:\n",
    "    log.error(e)"
   ]
  },
  {
   "cell_type": "code",
   "execution_count": 5,
   "metadata": {},
   "outputs": [
    {
     "name": "stdout",
     "output_type": "stream",
     "text": [
      "Enter a postcode:\n"
     ]
    },
    {
     "name": "stderr",
     "output_type": "stream",
     "text": [
      "__main__ - INFO - The properties sold in ST10 4BS are: Index(['{9DBAD222-22BC-6EB3-E053-6B04A8C0F257}', '{87E1551E-7F39-6405-E053-6C04A8C0B2EE}'], dtype='object', name='Transaction ID')\n",
      "__main__ - INFO - The number of properties sold in ST10 4BS is: 2\n"
     ]
    }
   ],
   "source": [
    "# ------------------ GET ALL TRANSACTIONS in a postcode ---------------- #\n",
    "\n",
    "postcode_name = input('Enter a postcode:')\n",
    "if not postcode_name:\n",
    "    postcode_name = 'ST10 4BS'\n",
    "\n",
    "try:\n",
    "    postcode = PostCode(postcode_name)\n",
    "    res = postcode.get_transactions(initial_date = datetime(2019,1,1), final_date = datetime(2020,1,1))\n",
    "    log.info(\"The properties sold in %s are: %s\",postcode_name,res)\n",
    "    log.info(\"The number of properties sold in %s is: %s\",postcode_name,len(res))\n",
    "except Exception as e:\n",
    "    log.error(e)"
   ]
  },
  {
   "cell_type": "code",
   "execution_count": 7,
   "metadata": {},
   "outputs": [
    {
     "name": "stdout",
     "output_type": "stream",
     "text": [
      "Enter a transaction ID:\n"
     ]
    },
    {
     "name": "stderr",
     "output_type": "stream",
     "text": [
      "__main__ - INFO - Info on property with ID CORNWALL-CORNWALL-HAYLE-ST ERTH-TREMELLIN LANE-WHEAL SQUIRES, 4-nan-O is: {'id': 'CORNWALL-CORNWALL-HAYLE-ST ERTH-TREMELLIN LANE-WHEAL SQUIRES, 4-nan-O', 'county': 'CORNWALL', 'district': 'CORNWALL', 'town': 'HAYLE', 'locality': 'ST ERTH', 'street': 'TREMELLIN LANE', 'PAON': 'WHEAL SQUIRES, 4', 'SAON': nan, 'type': 'O'}\n"
     ]
    }
   ],
   "source": [
    "# ----------------- GET PROPERTY BASED ON TRANSACTION ---------------------------- # \n",
    "\n",
    "transaction_name = input('Enter a transaction ID:')\n",
    "if not transaction_name:\n",
    "    transaction_name = '{7C2D0701-0253-4963-E053-6B04A8C07B97}'\n",
    "\n",
    "try:\n",
    "    transaction = Transaction(transaction_name)\n",
    "    property_name = transaction.get_properties()\n",
    "    property = Property(property_name)\n",
    "    log.info(\"Info on property with ID %s is: %s\",property_name,property.__dict__)\n",
    "except Exception as e:\n",
    "    log.error(e)"
   ]
  },
  {
   "cell_type": "code",
   "execution_count": 8,
   "metadata": {},
   "outputs": [
    {
     "name": "stdout",
     "output_type": "stream",
     "text": [
      "Enter value or number:\n"
     ]
    },
    {
     "name": "stderr",
     "output_type": "stream",
     "text": [
      "numexpr.utils - INFO - NumExpr defaulting to 4 threads.\n",
      "__main__ - INFO - The codes which have grown the most in terms of number of transactions are: Index(['WC2A', 'EC2N', 'LL25', 'NR22', 'EC2M', 'M17', 'SA35', 'TD9', 'WC1E',\n",
      "       'EC2A'],\n",
      "      dtype='object', name='Area Code')\n"
     ]
    }
   ],
   "source": [
    "# ---------------- Which postcodes have seen the highest increase in transactions during the last 5 years? --------- #\n",
    "\n",
    "by_name = input('Enter value or number:')\n",
    "if not by_name:\n",
    "    by_name = \"number\"\n",
    "try:\n",
    "    res = PostCode.find_top_codes(n=10,initial_year=2016,final_year=2020,by=by_name)\n",
    "    log.info(\"The codes which have grown the most in terms of %s of transactions are: %s\",by_name,res.index)\n",
    "except Exception as e:\n",
    "    log.error(e)"
   ]
  },
  {
   "cell_type": "code",
   "execution_count": 9,
   "metadata": {},
   "outputs": [
    {
     "name": "stdout",
     "output_type": "stream",
     "text": [
      "Enter year:\n"
     ]
    },
    {
     "name": "stderr",
     "output_type": "stream",
     "text": [
      "__main__ - INFO - The gravity centre (trans number) for year 2019 is: [-1.3829099  52.38650796]\n",
      "__main__ - INFO - The gravity centre (trans value) for year 2019 is: [-1.04012216 52.04215093]\n"
     ]
    }
   ],
   "source": [
    "# --------------- Can you come up with an indication of a ‘migration’ metric in the UK? ---------------------- #\n",
    "\n",
    "year_name = input('Enter year:')\n",
    "if not year_name:\n",
    "    year_name = 2019\n",
    "year_name = int(year_name)\n",
    "\n",
    "try:\n",
    "    res = PostCode.gravity_centre(year = year_name,by = \"number\")\n",
    "    log.info(\"The gravity centre (trans number) for year %s is: %s\",year_name,res)\n",
    "    res = PostCode.gravity_centre(year = year_name,by = \"value\")\n",
    "    log.info(\"The gravity centre (trans value) for year %s is: %s\",year_name,res)\n",
    "except Exception as e:\n",
    "    log.error(e)"
   ]
  },
  {
   "cell_type": "code",
   "execution_count": 10,
   "metadata": {},
   "outputs": [
    {
     "name": "stdout",
     "output_type": "stream",
     "text": [
      "Enter an areacode:\n"
     ]
    },
    {
     "data": {
      "image/png": "[encoded data removed]",
      "text/plain": [
       "<Figure size 432x288 with 1 Axes>"
      ]
     },
     "metadata": {
      "needs_background": "light"
     },
     "output_type": "display_data"
    }
   ],
   "source": [
    "# -------------- Can you plot the average transaction price of a postcode as a function of distance from EC1A? -------------- #\n",
    "\n",
    "areacode_name = input('Enter an areacode:')\n",
    "if not areacode_name:\n",
    "    areacode_name = 'EC1A'\n",
    "\n",
    "try:\n",
    "    res = PostCode.distance_predict(area_code=areacode_name,by=\"value\")\n",
    "    plt.scatter(res[\"distance\"],res[\"y\"])\n",
    "    plt.xlabel(\"Distance from area code\")\n",
    "    plt.ylabel(\"Average price of transactions\")\n",
    "    plt.show()\n",
    "except Exception as e:\n",
    "    log.error(e)"
   ]
  },
  {
   "cell_type": "code",
   "execution_count": 11,
   "metadata": {},
   "outputs": [
    {
     "name": "stderr",
     "output_type": "stream",
     "text": [
      "__main__ - INFO - Coefficient and p-value are: 0.9412434096801069 , 2.5941703199121623e-188\n"
     ]
    }
   ],
   "source": [
    "# --------------- Can you find any correlation between the average house prices (url #4), and a CPI indicator (url #5)? ----------- #\n",
    "\n",
    "# import CPI and avg price data\n",
    "avg_price = pd.read_csv('./data/made/Avg_price_proc.csv',index_col=0)\n",
    "CPI = pd.read_csv('./data/made/CPI_proc.csv',index_col=0)\n",
    "\n",
    "try:\n",
    "    # merge data\n",
    "    time_series = avg_price.merge(CPI,left_index=True,right_index=True,how=\"inner\")\n",
    "    coeff, p = pearsonr(time_series[\"Average_Price\"],time_series[\"Value\"])\n",
    "    log.info(\"Coefficient and p-value are: %s , %s\",coeff,p)\n",
    "except Exception as e:\n",
    "    log.error(e)"
   ]
  },
  {
   "cell_type": "code",
   "execution_count": null,
   "metadata": {},
   "outputs": [],
   "source": []
  }
 ],
 "metadata": {
  "kernelspec": {
   "display_name": "Python 3",
   "language": "python",
   "name": "python3"
  },
  "language_info": {
   "codemirror_mode": {
    "name": "ipython",
    "version": 3
   },
   "file_extension": ".py",
   "mimetype": "text/x-python",
   "name": "python",
   "nbconvert_exporter": "python",
   "pygments_lexer": "ipython3",
   "version": "3.8.3"
  }
 },
 "nbformat": 4,
 "nbformat_minor": 4
}
