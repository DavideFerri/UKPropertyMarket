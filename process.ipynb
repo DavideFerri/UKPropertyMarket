{
 "cells": [
  {
   "cell_type": "code",
   "execution_count": 2,
   "metadata": {},
   "outputs": [],
   "source": [
    "import pandas as pd\n",
    "import warnings\n",
    "warnings.filterwarnings(\"ignore\")"
   ]
  },
  {
   "cell_type": "code",
   "execution_count": 3,
   "metadata": {},
   "outputs": [],
   "source": [
    "# ---------------------------- IMPORT DATA ---------------------------------------- #\n",
    "\n",
    "# house transactions\n",
    "data = pd.read_csv('./data/made/pp-post_2013.csv')\n",
    "\n",
    "# postcoded coordinates\n",
    "coord = pd.read_csv('./data/row/National_Statistics_Postcode_Lookup_UK_Coordinates.csv')\n",
    "\n",
    "# avg price data\n",
    "avg_price = pd.read_csv('./data/row/Average-prices-2021-03.csv')\n",
    "\n",
    "# get CPI data\n",
    "CPI = pd.read_csv('./data/row/mm23.csv')"
   ]
  },
  {
   "cell_type": "code",
   "execution_count": 4,
   "metadata": {},
   "outputs": [],
   "source": [
    "# ----------------------------- TRANSFORMATIONS ---------------------------------------- #\n",
    "\n",
    "# transform cols to str\n",
    "cols_to_str = [\"Transaction ID\",\"Postcode\",\"County\",\"District\",\"Town/City\",\"Locality\",\"Street\",\"PAON\",\"SAON\",\"Property Type\"]\n",
    "data[cols_to_str] = data[cols_to_str].astype(str)\n",
    "\n",
    "# transformations on avg price data - keep England only, get data at monthly freq, keep only date and avg price\n",
    "avg_price = avg_price[avg_price[\"Region_Name\"] == \"England\"]\n",
    "avg_price['Date'] = pd.to_datetime(avg_price['Date']).dt.to_period('M')\n",
    "# keep only average price as column\n",
    "avg_price = avg_price[['Date','Average_Price']].set_index(\"Date\")\n",
    "\n",
    "# transformations on CPI - keep only monthly data for rents index\n",
    "CPI = CPI.loc[1008:,['Title','CPI INDEX 04.1 : ACTUAL RENTS FOR HOUSING 2015=100']].rename(columns =\n",
    "                {'Title':'Date','CPI INDEX 04.1 : ACTUAL RENTS FOR HOUSING 2015=100':'Value'})\n",
    "CPI[\"Date\"] = pd.to_datetime(CPI[\"Date\"]).dt.to_period('M')\n",
    "CPI.set_index('Date',inplace=True)\n",
    "\n",
    "# transformations on coordinates - get area code and find its location (average)\n",
    "coord['Area Code'] = coord['Postcode 3'].apply(lambda x: x.split(' ')[0])\n",
    "coord = coord.groupby('Area Code')[[\"Longitude\",\"Latitude\"]].mean()"
   ]
  },
  {
   "cell_type": "markdown",
   "metadata": {},
   "source": [
    "As no property ID is available, I have tried to use as much info on properties available in the dataset to identify unique properties. Some of the information might be redundant and further research would be needed to understand what is actually needed. However, our current choice should guarantee that existing properties would not have IDs changing over time. However, I envisage the risk of new properties to be assigned the same IDs of those which they have replaced.\n",
    "\n",
    "I don't include postcodes in the property ID, as they can change over time."
   ]
  },
  {
   "cell_type": "code",
   "execution_count": 5,
   "metadata": {},
   "outputs": [],
   "source": [
    "# ------------------------------ DEFINE PROPERTY ID --------------------------------- # \n",
    "\n",
    "# define property ID\n",
    "data[\"Property ID\"] = data[\"County\"] + '-' +  data[\"District\"] + '-' + data[\"Town/City\"] \\\n",
    "                      + '-' + data[\"Locality\"] + '-' + data[\"Street\"] + '-' + data[\"PAON\"] + '-' + data['SAON'] + \\\n",
    "                    '-' + data['Property Type']"
   ]
  },
  {
   "cell_type": "code",
   "execution_count": 6,
   "metadata": {},
   "outputs": [],
   "source": [
    "# ------------------------------ BUILD PROPERTY DATASET -------------------------- #\n",
    "\n",
    "keep_cols = ['Property ID',\"County\",\"District\",\"Town/City\",\"Locality\",\"Street\",\"PAON\",\"SAON\",\"Property Type\"]\n",
    "properties = data[keep_cols].drop_duplicates(subset=['Property ID']).set_index('Property ID')"
   ]
  },
  {
   "cell_type": "code",
   "execution_count": 7,
   "metadata": {},
   "outputs": [],
   "source": [
    "# ------------------------------ BUILD TRANSACTIONS DATASET ---------------------- # \n",
    "\n",
    "transactions = data[[\"Transaction ID\",\"Property ID\",\"Price\",\"Transaction Date\",\"Old/New\",\"Duration\",\n",
    "                     \"PPD Category Type\"]].set_index(\"Transaction ID\")"
   ]
  },
  {
   "cell_type": "code",
   "execution_count": 8,
   "metadata": {},
   "outputs": [],
   "source": [
    "\n",
    "# ------------------------------ BUILD POSTCODE DATASET -------------------------- # \n",
    "\n",
    "postcodes_properties = data[[\"Property ID\",\"Postcode\"]].reset_index(drop=True)\n",
    "\n"
   ]
  },
  {
   "cell_type": "code",
   "execution_count": 9,
   "metadata": {},
   "outputs": [],
   "source": [
    "# ------------------------------ EXPORT DATA -------------------------------- # \n",
    "\n",
    "transactions.to_csv(\"./data/made/transactions_proc.csv\")\n",
    "properties.to_csv(\"./data/made/properties_proc.csv\")\n",
    "postcodes_properties.to_csv(\"./data/made/postcode_properties_proc.csv\")\n",
    "coord.to_csv(\"./data/made/coord_proc.csv\")\n",
    "CPI.to_csv('./data/made/CPI_proc.csv')\n",
    "avg_price.to_csv('./data/made/Avg_price_proc.csv')"
   ]
  },
  {
   "cell_type": "code",
   "execution_count": null,
   "metadata": {},
   "outputs": [],
   "source": []
  }
 ],
 "metadata": {
  "kernelspec": {
   "display_name": "Python 3",
   "language": "python",
   "name": "python3"
  },
  "language_info": {
   "codemirror_mode": {
    "name": "ipython",
    "version": 3
   },
   "file_extension": ".py",
   "mimetype": "text/x-python",
   "name": "python",
   "nbconvert_exporter": "python",
   "pygments_lexer": "ipython3",
   "version": "3.8.3"
  }
 },
 "nbformat": 4,
 "nbformat_minor": 4
}
